{
  "nbformat": 4,
  "nbformat_minor": 0,
  "metadata": {
    "colab": {
      "provenance": []
    },
    "kernelspec": {
      "name": "python3",
      "display_name": "Python 3"
    },
    "language_info": {
      "name": "python"
    }
  },
  "cells": [
    {
      "cell_type": "markdown",
      "source": [
        "**NAME: KRISHNA VEDANTHA  ;\n",
        "SRN: PES1UG20CS219   ;\n",
        "SECTION: 5 D** "
      ],
      "metadata": {
        "id": "JJdtZKw7p6hw"
      }
    },
    {
      "cell_type": "code",
      "execution_count": 1,
      "metadata": {
        "colab": {
          "base_uri": "https://localhost:8080/"
        },
        "id": "8EyCNwmkb5_p",
        "outputId": "f611d6fa-6f57-4614-b327-3ce1d8ec0128"
      },
      "outputs": [
        {
          "output_type": "execute_result",
          "data": {
            "text/plain": [
              "875713"
            ]
          },
          "metadata": {},
          "execution_count": 1
        }
      ],
      "source": [
        "import networkx as nx\n",
        "import matplotlib.pyplot as plt\n",
        "import time\n",
        "import json\n",
        "\n",
        "\n",
        "fn = open('/content/drive/MyDrive/web-Google.txt', 'r')\n",
        "\n",
        "fn1 = open('/content/drive/MyDrive/input1.txt', 'w')\n",
        "fn2 = open('/content/drive/MyDrive/input2.txt', 'w')\n",
        "fn3 = open('/content/drive/MyDrive/input3.txt', 'w')\n",
        "fn4 = open('/content/drive/MyDrive/input4.txt', 'w')\n",
        "\n",
        "cont = fn.readlines()\n",
        "#including only the 1st 20000 edges in the input1 file\n",
        "for i in range(20000):\n",
        "  fn1.write(cont[i])\n",
        "\n",
        "#including only the 1st 40000 edges in the input2 file\n",
        "for i in range(40000):\n",
        "  fn2.write(cont[i])\n",
        "\n",
        "#including only the 1st 60000 edges in the input3 file\n",
        "for i in range(60000):\n",
        "  fn3.write(cont[i])\n",
        "\n",
        "#including only the 1st 80000 edges in the input4 file\n",
        "for i in range(80000):\n",
        "  fn4.write(cont[i])\n",
        "\n",
        "fn1.close()\n",
        "fn2.close()\n",
        "fn3.close()\n",
        "fn4.close()\n",
        "\n",
        "g = nx.read_edgelist(\"/content/drive/MyDrive/web-Google.txt\",create_using=nx.DiGraph(), nodetype = int)\n",
        "\n",
        "# check if the data has been read properly or not.\n",
        "\n",
        "nx.info(g)\n",
        "\n",
        "# count the number of nodes\n",
        "\n",
        "g.number_of_nodes()"
      ]
    },
    {
      "cell_type": "code",
      "source": [
        "#creating a graph for input1.txt\n",
        "g1 = nx.read_edgelist(\"/content/drive/MyDrive/input1.txt\",create_using=nx.DiGraph(), nodetype = int)\n",
        "nx.info(g1)\n",
        "# count the number of nodes\n",
        "print(g1.number_of_nodes())\n",
        "\n",
        "\n",
        "#creating a graph for input2.txt\n",
        "g2 = nx.read_edgelist(\"/content/drive/MyDrive/input2.txt\",create_using=nx.DiGraph(), nodetype = int)\n",
        "nx.info(g2)\n",
        "# count the number of nodes\n",
        "print(g2.number_of_nodes())\n",
        "\n",
        "\n",
        "#creating a graph for input3.txt\n",
        "g3 = nx.read_edgelist(\"/content/drive/MyDrive/input3.txt\",create_using=nx.DiGraph(), nodetype = int)\n",
        "nx.info(g3)\n",
        "# count the number of nodes\n",
        "print(g3.number_of_nodes())\n",
        "\n",
        "\n",
        "#creating a graph for input4.txt\n",
        "g4 = nx.read_edgelist(\"/content/drive/MyDrive/input4.txt\",create_using=nx.DiGraph(), nodetype = int)\n",
        "nx.info(g4)\n",
        "# count the number of nodes\n",
        "print(g4.number_of_nodes())"
      ],
      "metadata": {
        "colab": {
          "base_uri": "https://localhost:8080/"
        },
        "id": "5ZLzLZhPePeM",
        "outputId": "914cc470-ed3d-465a-a188-b41f9e93d758"
      },
      "execution_count": 3,
      "outputs": [
        {
          "output_type": "stream",
          "name": "stdout",
          "text": [
            "8283\n",
            "16775\n",
            "25232\n",
            "32786\n"
          ]
        }
      ]
    },
    {
      "cell_type": "code",
      "source": [
        "print(\"TIME FOR HITS ALGORITHM FOR 10 MAX ITERATIONS\")\n",
        "#HITS for input1.txt\n",
        "start_time=time.time()\n",
        "hubs,authorities= nx.hits(g1, max_iter = 10, normalized = True)\n",
        "print(\"Time for input 1:\",time.time()-start_time)\n",
        "\n",
        "#HITS for input2.txt\n",
        "start_time=time.time()\n",
        "hubs,authorities= nx.hits(g2, max_iter = 10, normalized = True)\n",
        "print(\"Time for input 2:\",time.time()-start_time)\n",
        "\n",
        "#HITS for input3.txt\n",
        "start_time=time.time()\n",
        "hubs,authorities= nx.hits(g3, max_iter = 10, normalized = True)\n",
        "print(\"Time for input 3:\",time.time()-start_time)\n",
        "\n",
        "#HITS for input4.txt\n",
        "start_time=time.time()\n",
        "hubs,authorities= nx.hits(g4, max_iter = 10, normalized = True)\n",
        "print(\"Time for input 4:\",time.time()-start_time)\n",
        "\n",
        "\n",
        "\n",
        "print(\"TIME FOR PageRank ALGORITHM FOR 10 MAX ITERATIONS\")\n",
        "#PageRank for input1.txt\n",
        "start_time=time.time()\n",
        "page_rank = nx.pagerank(g1, max_iter = 10)\n",
        "print(\"Time for input 1:\",time.time()-start_time)\n",
        "\n",
        "#PageRank for input2.txt\n",
        "start_time=time.time()\n",
        "page_rank = nx.pagerank(g2, max_iter = 10)\n",
        "print(\"Time for input 2:\",time.time()-start_time)\n",
        "\n",
        "#PageRank for input3.txt\n",
        "start_time=time.time()\n",
        "page_rank = nx.pagerank(g3, max_iter = 10)\n",
        "print(\"Time for input 3:\",time.time()-start_time)\n",
        "\n",
        "#PageRank for input4.txt\n",
        "start_time=time.time()\n",
        "page_rank = nx.pagerank(g4, max_iter = 10)\n",
        "print(\"Time for input 4:\",time.time()-start_time)"
      ],
      "metadata": {
        "colab": {
          "base_uri": "https://localhost:8080/"
        },
        "id": "J7f5uDoIfHId",
        "outputId": "9fc7e7d8-7536-4db4-d599-04ce68092f26"
      },
      "execution_count": 4,
      "outputs": [
        {
          "output_type": "stream",
          "name": "stdout",
          "text": [
            "TIME FOR HITS ALGORITHM FOR 10 MAX ITERATIONS\n",
            "Time for input 1: 0.15419435501098633\n",
            "Time for input 2: 0.15285658836364746\n",
            "Time for input 3: 0.22510766983032227\n",
            "Time for input 4: 3.5711140632629395\n",
            "TIME FOR PageRank ALGORITHM FOR 10 MAX ITERATIONS\n",
            "Time for input 1: 0.06781721115112305\n",
            "Time for input 2: 0.09322309494018555\n",
            "Time for input 3: 0.12802481651306152\n",
            "Time for input 4: 0.16838908195495605\n"
          ]
        }
      ]
    }
  ]
}