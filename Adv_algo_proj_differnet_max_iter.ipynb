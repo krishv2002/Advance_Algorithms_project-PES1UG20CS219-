{
  "nbformat": 4,
  "nbformat_minor": 0,
  "metadata": {
    "colab": {
      "provenance": []
    },
    "kernelspec": {
      "name": "python3",
      "display_name": "Python 3"
    },
    "language_info": {
      "name": "python"
    }
  },
  "cells": [
    {
      "cell_type": "markdown",
      "source": [
        "**NAME: KRISHNA VEDANTHA  ;\n",
        "SRN: PES1UG20CS219   ;\n",
        "SECTION: 5 D** \n"
      ],
      "metadata": {
        "id": "BXYHPMThpk7y"
      }
    },
    {
      "cell_type": "code",
      "execution_count": 1,
      "metadata": {
        "colab": {
          "base_uri": "https://localhost:8080/"
        },
        "id": "QG7AhT0dyEdh",
        "outputId": "3160e6b8-6af0-43d3-8fad-1c5f3bf12f58"
      },
      "outputs": [
        {
          "output_type": "execute_result",
          "data": {
            "text/plain": [
              "875713"
            ]
          },
          "metadata": {},
          "execution_count": 1
        }
      ],
      "source": [
        "import networkx as nx\n",
        "import matplotlib.pyplot as plt\n",
        "import time\n",
        "import json\n",
        "\n",
        "#cretaing a graph for web-Google.txt\n",
        "g = nx.read_edgelist(\"/content/drive/MyDrive/web-Google.txt\",create_using=nx.DiGraph(), nodetype = int)\n",
        "\n",
        "nx.info(g)\n",
        "\n",
        "# count the number of nodes\n",
        "g.number_of_nodes()\n"
      ]
    },
    {
      "cell_type": "code",
      "source": [
        "i=5\n",
        "while(i<=100):\n",
        "  start_time=time.time()\n",
        "  # The in-built hits function returns two dictionaries keyed by nodes\n",
        "  # containing hub scores and authority scores respectively.\n",
        "  #calculating HITS for every ith MAX iteration\n",
        "  hubs,authorities= nx.hits(g, max_iter = i, normalized = True)\n",
        "  print(\"Iteration: \",i/5)\n",
        "  print(\"Time taken for HITS Algorithm:\",time.time()-start_time)\n",
        "\n",
        "  start_time=time.time()\n",
        "  #calculating PageRank for every ith MAX iteration\n",
        "  page_rank = nx.pagerank(g, max_iter = i)\n",
        "  print(\"Time taken for Page Rank:\",time.time()-start_time)\n",
        "  i=i+5"
      ],
      "metadata": {
        "colab": {
          "base_uri": "https://localhost:8080/"
        },
        "id": "AfoifMK3yMg2",
        "outputId": "de729aeb-46b5-4c36-dc44-922024a28572"
      },
      "execution_count": 2,
      "outputs": [
        {
          "output_type": "stream",
          "name": "stdout",
          "text": [
            "Iteration:  1.0\n",
            "Time taken for HITS Algorithm: 19.762681007385254\n",
            "Time taken for Page Rank: 17.47113561630249\n",
            "Iteration:  2.0\n",
            "Time taken for HITS Algorithm: 21.538755416870117\n",
            "Time taken for Page Rank: 16.08125352859497\n",
            "Iteration:  3.0\n",
            "Time taken for HITS Algorithm: 21.3391170501709\n",
            "Time taken for Page Rank: 15.785712242126465\n",
            "Iteration:  4.0\n",
            "Time taken for HITS Algorithm: 22.28188943862915\n",
            "Time taken for Page Rank: 14.01678991317749\n",
            "Iteration:  5.0\n",
            "Time taken for HITS Algorithm: 18.44340705871582\n",
            "Time taken for Page Rank: 18.118457317352295\n",
            "Iteration:  6.0\n",
            "Time taken for HITS Algorithm: 18.69296622276306\n",
            "Time taken for Page Rank: 16.262097358703613\n",
            "Iteration:  7.0\n",
            "Time taken for HITS Algorithm: 18.581056356430054\n",
            "Time taken for Page Rank: 18.554170846939087\n",
            "Iteration:  8.0\n",
            "Time taken for HITS Algorithm: 18.687636613845825\n",
            "Time taken for Page Rank: 15.916165351867676\n",
            "Iteration:  9.0\n",
            "Time taken for HITS Algorithm: 19.58682417869568\n",
            "Time taken for Page Rank: 15.875622749328613\n",
            "Iteration:  10.0\n",
            "Time taken for HITS Algorithm: 22.924144744873047\n",
            "Time taken for Page Rank: 16.07617950439453\n",
            "Iteration:  11.0\n",
            "Time taken for HITS Algorithm: 17.50662875175476\n",
            "Time taken for Page Rank: 17.55686044692993\n",
            "Iteration:  12.0\n",
            "Time taken for HITS Algorithm: 21.91415572166443\n",
            "Time taken for Page Rank: 15.912941932678223\n",
            "Iteration:  13.0\n",
            "Time taken for HITS Algorithm: 18.790330410003662\n",
            "Time taken for Page Rank: 16.814897298812866\n",
            "Iteration:  14.0\n",
            "Time taken for HITS Algorithm: 20.825767517089844\n",
            "Time taken for Page Rank: 16.284811973571777\n",
            "Iteration:  15.0\n",
            "Time taken for HITS Algorithm: 18.769535064697266\n",
            "Time taken for Page Rank: 16.42448925971985\n",
            "Iteration:  16.0\n",
            "Time taken for HITS Algorithm: 18.77229404449463\n",
            "Time taken for Page Rank: 20.88209581375122\n",
            "Iteration:  17.0\n",
            "Time taken for HITS Algorithm: 18.888926029205322\n",
            "Time taken for Page Rank: 14.24109435081482\n",
            "Iteration:  18.0\n",
            "Time taken for HITS Algorithm: 22.561480045318604\n",
            "Time taken for Page Rank: 18.088396072387695\n",
            "Iteration:  19.0\n",
            "Time taken for HITS Algorithm: 19.60431432723999\n",
            "Time taken for Page Rank: 16.1199152469635\n",
            "Iteration:  20.0\n",
            "Time taken for HITS Algorithm: 19.616915464401245\n",
            "Time taken for Page Rank: 18.076717138290405\n"
          ]
        }
      ]
    }
  ]
}